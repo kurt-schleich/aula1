{
  "nbformat": 4,
  "nbformat_minor": 0,
  "metadata": {
    "colab": {
      "provenance": [],
      "authorship_tag": "ABX9TyOC3LBV1XRxSu3pmdkRGK1F",
      "include_colab_link": true
    },
    "kernelspec": {
      "name": "python3",
      "display_name": "Python 3"
    },
    "language_info": {
      "name": "python"
    }
  },
  "cells": [
    {
      "cell_type": "markdown",
      "metadata": {
        "id": "view-in-github",
        "colab_type": "text"
      },
      "source": [
        "<a href=\"https://colab.research.google.com/github/kurt-schleich/aula1/blob/main/Tarefas_de_casa2.ipynb\" target=\"_parent\"><img src=\"https://colab.research.google.com/assets/colab-badge.svg\" alt=\"Open In Colab\"/></a>"
      ]
    },
    {
      "cell_type": "code",
      "execution_count": null,
      "metadata": {
        "colab": {
          "base_uri": "https://localhost:8080/"
        },
        "id": "xH3185ebAs9U",
        "outputId": "b4ca29a2-ac73-4974-a1b6-3ac210d62e1e"
      },
      "outputs": [
        {
          "output_type": "stream",
          "name": "stdout",
          "text": [
            "2\n",
            "1\n"
          ]
        }
      ],
      "source": [
        "#crie a lista 'areas'\n",
        "areas=[11.25,18.0,20.0,10.75,9.50]\n",
        "#printar index de 20\n",
        "print(areas.index(20.0))\n",
        "#printar a quantidade de 9.50 na lista\n",
        "print(areas.count(9.50))"
      ]
    },
    {
      "cell_type": "code",
      "source": [
        "# acrescente dois valores a lista e então printe-os\n",
        "areas.append(15.5)\n",
        "areas.append(24.5)\n",
        "print(areas)"
      ],
      "metadata": {
        "colab": {
          "base_uri": "https://localhost:8080/"
        },
        "id": "Ts8dqk-5BmYm",
        "outputId": "14be769e-0a45-47bc-ba7a-e2b45bdd6c53"
      },
      "execution_count": null,
      "outputs": [
        {
          "output_type": "stream",
          "name": "stdout",
          "text": [
            "[11.25, 18.0, 20.0, 10.75, 9.5, 15.5, 24.5]\n"
          ]
        }
      ]
    },
    {
      "cell_type": "code",
      "source": [
        "#ordene e printe a lista\n",
        "areas = sorted(areas, reverse = True)\n",
        "print(areas)"
      ],
      "metadata": {
        "id": "5XeoTvRkCT5L",
        "colab": {
          "base_uri": "https://localhost:8080/"
        },
        "outputId": "839ba4df-d565-41a2-ecae-f00f1b7b9036"
      },
      "execution_count": 15,
      "outputs": [
        {
          "output_type": "stream",
          "name": "stdout",
          "text": [
            "[24.5, 20.0, 18.0, 15.5, 11.25, 10.75, 9.5]\n"
          ]
        }
      ]
    },
    {
      "cell_type": "code",
      "source": [
        "#Extras"
      ],
      "metadata": {
        "id": "-zn1pyMLEssn"
      },
      "execution_count": null,
      "outputs": []
    },
    {
      "cell_type": "code",
      "source": [
        "import math\n",
        "#impotar math, calcular circunferência, e área então printa-los\n",
        "r = 0.43\n",
        "C = math.pi*r*2\n",
        "A=math.pi*r**2\n",
        "print('Cicunferência: ' + str(C))\n",
        "print('Área: ' + str(A))"
      ],
      "metadata": {
        "colab": {
          "base_uri": "https://localhost:8080/"
        },
        "id": "40oFT-YpEsv2",
        "outputId": "518d6c31-6088-48ee-9225-926ccb054bb1"
      },
      "execution_count": 23,
      "outputs": [
        {
          "output_type": "stream",
          "name": "stdout",
          "text": [
            "Cicunferência: 2.701769682087222\n",
            "Área: 0.5808804816487527\n"
          ]
        }
      ]
    }
  ]
}