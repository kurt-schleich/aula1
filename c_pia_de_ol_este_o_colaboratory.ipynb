{
  "cells": [
    {
      "cell_type": "markdown",
      "metadata": {
        "id": "view-in-github",
        "colab_type": "text"
      },
      "source": [
        "<a href=\"https://colab.research.google.com/github/kurt-schleich/aula1/blob/main/c_pia_de_ol_este_o_colaboratory.ipynb\" target=\"_parent\"><img src=\"https://colab.research.google.com/assets/colab-badge.svg\" alt=\"Open In Colab\"/></a>"
      ]
    },
    {
      "cell_type": "code",
      "source": [
        "ganho = 100*1.1**7\n",
        "print(ganho)\n"
      ],
      "metadata": {
        "id": "TzJiSU1Xq9-4",
        "outputId": "b0a4e842-b80b-4249-f701-ca4748a7fcc4",
        "colab": {
          "base_uri": "https://localhost:8080/"
        }
      },
      "execution_count": null,
      "outputs": [
        {
          "output_type": "stream",
          "name": "stdout",
          "text": [
            "194.87171000000012\n"
          ]
        }
      ]
    },
    {
      "cell_type": "code",
      "source": [
        "savings = 100\n",
        "growth_multiplier = 1.1\n",
        "desc = 'compound interest'\n",
        "#multiplique growth com savings dentro do year1\n",
        "year1 = savings *growth_multiplier\n",
        "#printar o tipo do year1\n",
        "print(type(year1))\n",
        "#printar a concatenação(junção) de desc com desc como sendo a variavel doubledesc\n",
        "doubledesc = 'desc' + 'desc'\n",
        "print(doubledesc)"
      ],
      "metadata": {
        "id": "jN-0KtP4sp1Q",
        "outputId": "cbc53a35-0fab-4758-de41-2de2ed556947",
        "colab": {
          "base_uri": "https://localhost:8080/"
        }
      },
      "execution_count": null,
      "outputs": [
        {
          "output_type": "stream",
          "name": "stdout",
          "text": [
            "<class 'float'>\n",
            "descdesc\n"
          ]
        }
      ]
    },
    {
      "cell_type": "code",
      "source": [
        "#definição da pi_string\n",
        "pi_string = '3.1415926'\n",
        "#transforme string em float\n",
        "pi_float = float(pi_string)\n",
        "print(type(pi_string))\n",
        "print(type(pi_float))"
      ],
      "metadata": {
        "id": "ZVSdxjuwuqZO",
        "outputId": "f5d0eb68-ed7a-42c5-b383-83965e3dacc4",
        "colab": {
          "base_uri": "https://localhost:8080/"
        }
      },
      "execution_count": null,
      "outputs": [
        {
          "output_type": "stream",
          "name": "stdout",
          "text": [
            "<class 'str'>\n",
            "<class 'float'>\n"
          ]
        }
      ]
    },
    {
      "cell_type": "code",
      "source": [
        "savings = 100\n",
        "result = 100 * 1.10 ** 7\n",
        "print('i startd with $' + savings + ' and now i have $' + result + 'awesome!')"
      ],
      "metadata": {
        "id": "ZZqaUSttxpSl"
      },
      "execution_count": null,
      "outputs": []
    },
    {
      "cell_type": "code",
      "source": [
        "#erro do código 8 foi que str não soma nem com float nem com int\n",
        "savings = 100\n",
        "result = 100 * 1.10 ** 7\n",
        "print('I startd with $' + str(savings) + ' and now i have $' + str(result) + '. Awesome!')"
      ],
      "metadata": {
        "colab": {
          "base_uri": "https://localhost:8080/"
        },
        "id": "hhumuVO-ysM1",
        "outputId": "cd9b9efc-5821-4062-f555-ba6162eadd4a"
      },
      "execution_count": null,
      "outputs": [
        {
          "output_type": "stream",
          "name": "stdout",
          "text": [
            "I startd with $100 and now i have $194.87171000000012. Awesome!\n"
          ]
        }
      ]
    },
    {
      "cell_type": "code",
      "source": [
        "#possibilidade de resolução\n",
        "savings = 100\n",
        "result = 100 * 1.10 ** 7\n",
        "print('I startd with $',savings,' and now i have $',result,'. Awesome!')"
      ],
      "metadata": {
        "colab": {
          "base_uri": "https://localhost:8080/"
        },
        "id": "7w-81laj0C3D",
        "outputId": "cc7b140b-cbb0-42d7-9b62-30a475c552bb"
      },
      "execution_count": null,
      "outputs": [
        {
          "output_type": "stream",
          "name": "stdout",
          "text": [
            "I startd with $ 100  and now i have $ 194.87171000000012 . Awesome!\n"
          ]
        }
      ]
    },
    {
      "cell_type": "code",
      "source": [
        "pip install python==3.9.16\n"
      ],
      "metadata": {
        "colab": {
          "base_uri": "https://localhost:8080/"
        },
        "id": "V8L1kK7L2F6K",
        "outputId": "54dcebff-f670-41f4-a3ea-c054c792d622"
      },
      "execution_count": null,
      "outputs": [
        {
          "output_type": "stream",
          "name": "stdout",
          "text": [
            "Looking in indexes: https://pypi.org/simple, https://us-python.pkg.dev/colab-wheels/public/simple/\n",
            "\u001b[31mERROR: Could not find a version that satisfies the requirement python==3.9.16 (from versions: none)\u001b[0m\u001b[31m\n",
            "\u001b[0m\u001b[31mERROR: No matching distribution found for python==3.9.16\u001b[0m\u001b[31m\n",
            "\u001b[0m"
          ]
        }
      ]
    },
    {
      "cell_type": "code",
      "source": [
        "print(True + False)"
      ],
      "metadata": {
        "colab": {
          "base_uri": "https://localhost:8080/"
        },
        "id": "x3ImUM6O5hwp",
        "outputId": "9129c389-8b95-4fd3-dfec-bcb59058c73b"
      },
      "execution_count": null,
      "outputs": [
        {
          "output_type": "stream",
          "name": "stdout",
          "text": [
            "1\n"
          ]
        }
      ]
    },
    {
      "cell_type": "code",
      "source": [
        "alturas = [1.71, 1.76, 1.68, 1.62]\n",
        "fam=tuple(alturas)\n",
        "print(type(fam))\n",
        "print(fam)"
      ],
      "metadata": {
        "colab": {
          "base_uri": "https://localhost:8080/"
        },
        "id": "QUH1df3e7Zb9",
        "outputId": "0e3475cc-b5ff-42f5-eb1c-52ffaf6bb46d"
      },
      "execution_count": null,
      "outputs": [
        {
          "output_type": "stream",
          "name": "stdout",
          "text": [
            "<class 'tuple'>\n",
            "(1.71, 1.76, 1.68, 1.62)\n"
          ]
        }
      ]
    },
    {
      "cell_type": "code",
      "source": [
        "alturas = (1.71, 1.76, 1.68, 1.62)\n",
        "fami=list(alturas)\n",
        "print(type(fami))\n",
        "print(fami)\n"
      ],
      "metadata": {
        "colab": {
          "base_uri": "https://localhost:8080/"
        },
        "id": "1s__BKJiANKH",
        "outputId": "7844ea76-d478-41a4-afe3-6f7aa1765d00"
      },
      "execution_count": null,
      "outputs": [
        {
          "output_type": "stream",
          "name": "stdout",
          "text": [
            "<class 'list'>\n",
            "[1.71, 1.76, 1.68, 1.62]\n"
          ]
        }
      ]
    },
    {
      "cell_type": "code",
      "source": [
        "alturas = ['kurt '+ str(1.71), 'mom '+ str(1.68), 'dad '+ str(1.72)]\n",
        "for altura in alturas:\n",
        "  print(altura)\n",
        "  print(type(alturas))"
      ],
      "metadata": {
        "colab": {
          "base_uri": "https://localhost:8080/"
        },
        "id": "tQe3SA159ekH",
        "outputId": "2df5d1a5-5b8a-4eff-dbce-142ad219d9c6"
      },
      "execution_count": null,
      "outputs": [
        {
          "output_type": "stream",
          "name": "stdout",
          "text": [
            "kurt 1.71\n",
            "<class 'list'>\n",
            "mom 1.68\n",
            "<class 'list'>\n",
            "dad 1.72\n",
            "<class 'list'>\n"
          ]
        }
      ]
    },
    {
      "cell_type": "code",
      "source": [
        "alturas = [['kurt',1.71], ['mom', 1.68], ['dad', 1.72]]\n",
        "print(type(alturas))"
      ],
      "metadata": {
        "colab": {
          "base_uri": "https://localhost:8080/"
        },
        "id": "Qb9OjGXn-iLH",
        "outputId": "a05c49e1-a089-40ee-fb6b-5b6120e9dec9"
      },
      "execution_count": null,
      "outputs": [
        {
          "output_type": "stream",
          "name": "stdout",
          "text": [
            "<class 'list'>\n"
          ]
        }
      ]
    },
    {
      "cell_type": "code",
      "source": [
        "#variavel areas\n",
        "hall = 14.00\n",
        "kit = 18.0\n",
        "liv = 20.0\n",
        "bed = 10.75\n",
        "bath = 9.50\n",
        "#crie a lista\n",
        "house = ['bathroom', bath, 'bedroom', bed, 'hallway', hall, 'kitchen', kit, 'livingroom', liv]\n",
        "#printar areas\n",
        "print(house)\n",
        "  "
      ],
      "metadata": {
        "colab": {
          "base_uri": "https://localhost:8080/"
        },
        "id": "9RF1vUt3Ate3",
        "outputId": "242868ee-d513-4d8b-802c-98974e80e192"
      },
      "execution_count": null,
      "outputs": [
        {
          "output_type": "stream",
          "name": "stdout",
          "text": [
            "['bathroom', 9.5, 'bedroom', 10.75, 'hallway', 14.0, 'kitchen', 18.0, 'livingroom', 20.0]\n"
          ]
        }
      ]
    },
    {
      "cell_type": "code",
      "source": [
        "#lista com 4 valores inteiros\n",
        "list1 = [1, 3, 4, 2]\n",
        "#lista com duas lista(de 3 termos cada)\n",
        "list2 = [[1,2,3], [4,5,7]]\n",
        "#lista com expressão algébrica, string de 5 'a's e o INT 3\n",
        "list3 = [1+2, 'a' * 5, 3]\n",
        "print(list1)\n",
        "print(list2)\n",
        "print(list3)"
      ],
      "metadata": {
        "colab": {
          "base_uri": "https://localhost:8080/"
        },
        "id": "2Ri5OCktEFc0",
        "outputId": "a98793eb-19e4-4626-90bf-608437e24995"
      },
      "execution_count": null,
      "outputs": [
        {
          "output_type": "stream",
          "name": "stdout",
          "text": [
            "[1, 3, 4, 2]\n",
            "[[1, 2, 3], [4, 5, 7]]\n",
            "[3, 'aaaaa', 3]\n"
          ]
        }
      ]
    },
    {
      "cell_type": "code",
      "source": [
        "#variavel areas\n",
        "hall = 14.00\n",
        "kit = 18.0\n",
        "liv = 20.0\n",
        "bed = 10.75\n",
        "bath = 9.50\n",
        "#crie a lista\n",
        "house = [ ['hallway', hall], ['kitchen', kit], ['livingroom', liv], ['bedroom', bed], ['bathroom', bath]]\n",
        "#printar areas\n",
        "for areas in house:\n",
        "  print(areas)\n",
        "#printe tbm o tipo\n",
        "print(type(house))\n",
        "print(house[1])\n",
        "print(house[-1])"
      ],
      "metadata": {
        "colab": {
          "base_uri": "https://localhost:8080/"
        },
        "id": "oeK2YY07GJZ5",
        "outputId": "6110d14d-de16-4db1-c638-36a5e02a92ae"
      },
      "execution_count": null,
      "outputs": [
        {
          "output_type": "stream",
          "name": "stdout",
          "text": [
            "['hallway', 14.0]\n",
            "['kitchen', 18.0]\n",
            "['livingroom', 20.0]\n",
            "['bedroom', 10.75]\n",
            "['bathroom', 9.5]\n",
            "<class 'list'>\n",
            "['kitchen', 18.0]\n",
            "['bathroom', 9.5]\n"
          ]
        }
      ]
    },
    {
      "cell_type": "code",
      "source": [
        "print(house[3:6])\n",
        "print(house[1:-1])\n",
        "print(house[1:3])\n",
        "print(house[:6])\n",
        "print(house[3:])"
      ],
      "metadata": {
        "colab": {
          "base_uri": "https://localhost:8080/"
        },
        "id": "jti71WCDJLLR",
        "outputId": "ff7eae27-d314-48a7-9349-a1235d94e6f0"
      },
      "execution_count": null,
      "outputs": [
        {
          "output_type": "stream",
          "name": "stdout",
          "text": [
            "[['bedroom', 10.75], ['bathroom', 9.5]]\n",
            "[['kitchen', 18.0], ['livingroom', 20.0], ['bedroom', 10.75]]\n",
            "[['kitchen', 18.0], ['livingroom', 20.0]]\n",
            "[['hallway', 14.0], ['kitchen', 18.0], ['livingroom', 20.0], ['bedroom', 10.75], ['bathroom', 9.5]]\n",
            "[['bedroom', 10.75], ['bathroom', 9.5]]\n"
          ]
        }
      ]
    },
    {
      "cell_type": "code",
      "source": [
        "print(house[1])\n",
        "print(house[-1])\n",
        "print(house[2])"
      ],
      "metadata": {
        "colab": {
          "base_uri": "https://localhost:8080/"
        },
        "id": "EcsT0jMILh65",
        "outputId": "b22c3125-c3be-49f9-a926-bc50089340a5"
      },
      "execution_count": null,
      "outputs": [
        {
          "output_type": "stream",
          "name": "stdout",
          "text": [
            "['kitchen', 18.0]\n",
            "['bathroom', 9.5]\n",
            "['livingroom', 20.0]\n"
          ]
        }
      ]
    }
  ],
  "metadata": {
    "colab": {
      "provenance": [],
      "include_colab_link": true
    },
    "kernelspec": {
      "display_name": "Python 3",
      "name": "python3"
    }
  },
  "nbformat": 4,
  "nbformat_minor": 0
}